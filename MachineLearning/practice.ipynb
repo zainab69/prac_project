{
 "cells": [
  {
   "cell_type": "code",
   "execution_count": 1,
   "metadata": {},
   "outputs": [
    {
     "name": "stdout",
     "output_type": "stream",
     "text": [
      "Hello from a function\n"
     ]
    }
   ],
   "source": [
    "def my_function():\n",
    "  print(\"Hello from a function\")\n",
    "\n",
    "my_function()\n"
   ]
  },
  {
   "cell_type": "code",
   "execution_count": null,
   "metadata": {},
   "outputs": [],
   "source": [
    "# linear regression\n",
    "import pandas as pd\n",
    "import numpy as np \n",
    "import matplotlib.pyplot as plt\n",
    "import sklearn.linear_model\n",
    "train = pd.read_csv(\"https://github.com/ybifoundation/Dataset/raw/main/Salary%20Data.csv\")\n",
    "X = np.c_[train[\"Salary\"]]\n",
    "y = np.c_[train[\"Experience Years\"]]\n",
    "train.plot(kind='scatter', x=\"Salary\", y='Experience Years')\n",
    "# plt.show()\n",
    "model = sklearn.linear_model.LinearRegression()\n",
    "model.fit(X, y)\n",
    "y_pred = model.predict(X)\n",
    "plt.plot(train[\"Salary\"], y_pred, color='red', label='Regression line')\n",
    "\n"
   ]
  },
  {
   "cell_type": "code",
   "execution_count": null,
   "metadata": {},
   "outputs": [],
   "source": [
    "# linear regression\n",
    "import pandas as pd\n",
    "import numpy as np \n",
    "import matplotlib.pyplot as plt\n",
    "import sklearn.linear_model\n",
    "train = pd.read_csv(\"https://github.com/ybifoundation/Dataset/raw/main/Salary%20Data.csv\")\n",
    "X = np.c_[train[\"Salary\"]]\n",
    "y = np.c_[train[\"Experience Years\"]]\n",
    "train.plot(kind='scatter', x=\"Salary\", y='Experience Years')\n",
    "# plt.show()\n",
    "model = sklearn.linear_model.LogisticRegression()\n",
    "model.fit(X, y)\n",
    "y_pred = model.predict(X)\n",
    "plt.plot(train[\"Salary\"], y_pred, color='red', label='Regression line')"
   ]
  }
 ],
 "metadata": {
  "kernelspec": {
   "display_name": "Python 3",
   "language": "python",
   "name": "python3"
  },
  "language_info": {
   "codemirror_mode": {
    "name": "ipython",
    "version": 3
   },
   "file_extension": ".py",
   "mimetype": "text/x-python",
   "name": "python",
   "nbconvert_exporter": "python",
   "pygments_lexer": "ipython3",
   "version": "3.10.12"
  }
 },
 "nbformat": 4,
 "nbformat_minor": 2
}
